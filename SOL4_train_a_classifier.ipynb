{
 "metadata": {
  "language": "lua",
  "name": "",
  "signature": "sha256:80ec6b5103df3a4e3037f047a3a5d09ba6eda325ff8d616269b78bf1be646293"
 },
 "nbformat": 3,
 "nbformat_minor": 0,
 "worksheets": [
  {
   "cells": [
    {
     "cell_type": "markdown",
     "metadata": {},
     "source": [
      "You have experience with the Clement Farabet starter code. That is a great starting point.\n",
      "\n",
      "Here's the goal of this tutorial: instead of presenting you with a full working system, let's build it from scratch. We won't use an external package like optim, rather do the weight updates manually so you really control every aspect of what is going on.\n",
      "\n",
      "Also, I'll put everything in global variables which are visible inside functions, and the functions don't take any arguments. Don't do this in real life.\n",
      "\n",
      "The goal is that after this tutorial you'll be confident using Clement's code and changing any element of it."
     ]
    },
    {
     "cell_type": "heading",
     "level": 2,
     "metadata": {},
     "source": [
      "Implement a full training procedure from scratch"
     ]
    },
    {
     "cell_type": "markdown",
     "metadata": {},
     "source": [
      "We will train a small 3-layer neural network, named \"net\", to reproduce the outputs from a larger random neural network (called \"oracle\", you should assume this is a fully trained net that is doing some task really well). I mostly do this because then I don't have to download an actual dataset (can just generate data on the fly). At the other hand, the fact that this works at all (approximating a deep net with a much smaller & shallower net) is pretty interesting and was the subject of a NIPS publication: http://papers.nips.cc/paper/5484-do-deep-nets-really-need-to-be-deep.pdf\n",
      "\n",
      "For an intuitive explanation, Hinton talked about this as \"Dark Knowledge\", see google or for example here: http://fastml.com/geoff-hintons-dark-knowledge/"
     ]
    },
    {
     "cell_type": "code",
     "collapsed": false,
     "input": [
      "require 'nn' -- no cuda today\n",
      "epochs = 20\n",
      "batchesPerEpoch = 1000\n",
      "testBatches = 400\n",
      "batchSize = 64\n",
      "lrate = 0.01\n",
      "wdecay= 0.00001\n",
      "inpsize = 50\n",
      "outsize = 10\n",
      "hiddens = {40,40}\n",
      "labelNoiseEpsilon = 0.0"
     ],
     "language": "python",
     "metadata": {},
     "outputs": [],
     "prompt_number": 158
    },
    {
     "cell_type": "markdown",
     "metadata": {},
     "source": [
      "Construct a neural net with fully connected layers, with the desired structure you can infer from the parameters. Use ReLU nonlinearities.\n",
      "\n",
      "The outputs should be log probabilities. The criterion is DistKLDivCriterion, because we will reduce the KL divergence between the learned network and the oracle."
     ]
    },
    {
     "cell_type": "code",
     "collapsed": false,
     "input": [
      "net = nn.Sequential()\n",
      "-- TODO\n",
      "crit = nn.DistKLDivCriterion()"
     ],
     "language": "python",
     "metadata": {},
     "outputs": [],
     "prompt_number": 159
    },
    {
     "cell_type": "code",
     "collapsed": false,
     "input": [
      "net = nn.Sequential()\n",
      "net:add(nn.Linear(inpsize, hiddens[1]))\n",
      "net:add(nn.ReLU())\n",
      "-- net:add(nn.Dropout())\n",
      "for i = 1,#hiddens-1 do\n",
      "    net:add(nn.Linear(hiddens[i], hiddens[i+1]))\n",
      "    net:add(nn.ReLU())\n",
      "    net:add(nn.Dropout())\n",
      "end\n",
      "net:add(nn.Linear(hiddens[#hiddens], outsize))\n",
      "net:add(nn.LogSoftMax())\n",
      "crit = nn.DistKLDivCriterion()"
     ],
     "language": "python",
     "metadata": {},
     "outputs": [],
     "prompt_number": 160
    },
    {
     "cell_type": "markdown",
     "metadata": {},
     "source": [
      "How many parameters does the model have in total? Use the function that flattens the weight and bias into one vector."
     ]
    },
    {
     "cell_type": "code",
     "collapsed": false,
     "input": [
      "netPar, netGrad = net:getParameters()\n",
      "print(netPar:size())"
     ],
     "language": "python",
     "metadata": {},
     "outputs": [
      {
       "metadata": {},
       "output_type": "pyout",
       "prompt_number": 161,
       "text": [
        "\n",
        " 4090\n",
        "[torch.LongStorage of size 1]\n",
        "\n"
       ]
      }
     ],
     "prompt_number": 161
    },
    {
     "cell_type": "markdown",
     "metadata": {},
     "source": [
      "Here is the oracle:"
     ]
    },
    {
     "cell_type": "code",
     "collapsed": false,
     "input": [
      "oracle = nn.Sequential()\n",
      "oracle:add(nn.Linear(inpsize,50))\n",
      "oracle:add(nn.ReLU())\n",
      "oracle:add(nn.Linear(50,100))\n",
      "oracle:add(nn.ReLU())\n",
      "oracle:add(nn.Linear(100,100))\n",
      "oracle:add(nn.ReLU())\n",
      "oracle:add(nn.Linear(100,outsize))\n",
      "oracle:add(nn.SoftMax())"
     ],
     "language": "python",
     "metadata": {},
     "outputs": [],
     "prompt_number": 162
    },
    {
     "cell_type": "markdown",
     "metadata": {},
     "source": [
      "Note: the oracle produces probabilities (NOT log probabilities). This is just because that's what DistKLDivCriterion wants. Always give DistKLDivCriterion what she wants."
     ]
    },
    {
     "cell_type": "markdown",
     "metadata": {},
     "source": [
      "How many parameters does the oracle have? What ratio of parameters between the network we'll train and the oracle?"
     ]
    },
    {
     "cell_type": "code",
     "collapsed": false,
     "input": [
      "netPar:size(1) / oracle:getParameters():size(1)"
     ],
     "language": "python",
     "metadata": {},
     "outputs": [
      {
       "metadata": {},
       "output_type": "pyout",
       "prompt_number": 163,
       "text": [
        "0.2180170575693\t\n"
       ]
      }
     ],
     "prompt_number": 163
    },
    {
     "cell_type": "markdown",
     "metadata": {},
     "source": [
      "Construct a training set:\n",
      "+ X = randn tensor of size ( (batchesPerEpoch\\*batchSize,inpsize)) and \n",
      "+ Y = calculate the oracle's outputs. MAKE A COPY OF THE OUTPUT! Add some small uniform noise with zero mean and range labelNoiseEpsilon (defined above)."
     ]
    },
    {
     "cell_type": "code",
     "collapsed": false,
     "input": [
      "X = torch.randn(batchSize*batchesPerEpoch, inpsize)\n",
      "Y = oracle:forward(X):clone()\n",
      "noise = torch.rand(Y:size()) * labelNoiseEpsilon\n",
      "noise:add(torch.expand(-noise:mean(2),Y:size(1), Y:size(2)))\n",
      "Y:add(noise)\n",
      "print(X:size())\n",
      "print(Y:size())\n",
      "print(Y:sum(2)[{{1,3}}]) -- check normalization of first 2 elements"
     ],
     "language": "python",
     "metadata": {},
     "outputs": [
      {
       "metadata": {},
       "output_type": "pyout",
       "prompt_number": 164,
       "text": [
        "\n",
        " 64000\n",
        "    50\n",
        "[torch.LongStorage of size 2]\n",
        "\n",
        "\n",
        " 64000\n",
        "    10\n",
        "[torch.LongStorage of size 2]\n",
        "\n",
        " 1.0000\n",
        " 1.0000\n",
        " 1.0000\n",
        "[torch.DoubleTensor of dimension 3x1]\n",
        "\n"
       ]
      }
     ],
     "prompt_number": 164
    },
    {
     "cell_type": "markdown",
     "metadata": {},
     "source": [
      "Implement a function evaluate() doing the following (given in not-even-pseudo-code):"
     ]
    },
    {
     "cell_type": "code",
     "collapsed": false,
     "input": [
      "Xeval = torch.Tensor(batchSize, inpsize)\n",
      "function evaluate()\n",
      "    local loss = 0\n",
      "    local clfErr = 0\n",
      "    local Yeval, Ypred, predClass, oracleClass\n",
      "    -- for each batch:\n",
      "    -- Fill Xeval with rand normal numbers.\n",
      "    -- Compute the true probs from the oracle\n",
      "    -- Compute the predictions from the net\n",
      "    -- Compute the loss from the criterion\n",
      "    -- Get the percentage misclassified from the two (use torch.max and torch.ne)\n",
      "    return loss, clfErr\n",
      "end"
     ],
     "language": "python",
     "metadata": {},
     "outputs": [],
     "prompt_number": 165
    },
    {
     "cell_type": "code",
     "collapsed": false,
     "input": [
      "function evaluate()\n",
      "    local loss = 0\n",
      "    local clfErr = 0\n",
      "    local Yeval, Ypred, predClass, oracleClass\n",
      "    -- turn off dropouts\n",
      "    for i = 1,#net.modules do \n",
      "        if torch.type(net:get(i))=='nn.Dropout' then net:get(i).train=false end\n",
      "    end        \n",
      "    -- for each batch:\n",
      "    for batch = 1,testBatches do\n",
      "        -- Fill Xeval with rand normal numbers.\n",
      "        Xeval = torch.randn(batchSize, inpsize)\n",
      "        -- Compute the true probs from the oracle\n",
      "        Yoracle = oracle:forward(Xeval)\n",
      "        -- Compute the predictions from the net\n",
      "        Ypred = net:forward(Xeval)\n",
      "        -- Compute the loss from the criterion\n",
      "        loss = loss + crit:forward(Ypred, Yoracle)\n",
      "        -- Get the percentage misclassified from the two (use torch.max and torch.ne)\n",
      "        _, predClass = torch.max(Ypred, 2)\n",
      "        _, oracleClass = torch.max(Yoracle, 2)\n",
      "        clfErr = clfErr + torch.ne(predClass, oracleClass):sum()\n",
      "    end\n",
      "    loss = loss / testBatches\n",
      "    clfErr = clfErr / (testBatches * batchSize)\n",
      "    -- turn dropouts back on\n",
      "    for i = 1,#net.modules do \n",
      "        if torch.type(net:get(i))=='nn.Dropout' then net:get(i).train=true end\n",
      "    end\n",
      "    return loss, clfErr\n",
      "end"
     ],
     "language": "python",
     "metadata": {},
     "outputs": [],
     "prompt_number": 166
    },
    {
     "cell_type": "markdown",
     "metadata": {},
     "source": [
      "Write the training code. \n",
      "+ Outer loop: epoch. \n",
      "    - ix <- Generate random permutation w torch.randperm\n",
      "    - Inner loop: per-batch.\n",
      "        * Select training batch from X & Y using unmodified X,Y and \n",
      "        * zeroGradParameters\n",
      "        * forward\n",
      "        * backward\n",
      "        * apply weight decay by subtracting the current weights with factor wdecay\n",
      "        * make a gradient step\n",
      "        * extra: add 0.9 momentum like Krizhevsky 2012\n",
      "    - Evaluate, print result.\n",
      "    - If evaluation loss didn't decrease: divide lr by 4.\n",
      "    - collect garbage\n",
      "+ Extra: use https://github.com/tomsercu/tprof to profile your code."
     ]
    },
    {
     "cell_type": "code",
     "collapsed": true,
     "input": [
      "losses, errs = {}, {}\n",
      "netPar, netGrad = net:getParameters()\n",
      "Xb = torch.Tensor(batchSize, inpsize)\n",
      "Yb = torch.Tensor(batchSize, outsize)\n",
      "for epoch = 1, epochs do\n",
      "    -- TODO magic\n",
      "    loss, err = evaluate()\n",
      "    print(epoch .. \"\\t\" .. loss .. \"\\t\" .. err)\n",
      "    losses[#losses+1] = loss\n",
      "    errs[#errs+1] = err\n",
      "end"
     ],
     "language": "python",
     "metadata": {},
     "outputs": []
    },
    {
     "cell_type": "code",
     "collapsed": false,
     "input": [
      "losses, errs = {}, {}\n",
      "netPar, netGrad = net:getParameters()\n",
      "Xb = torch.Tensor(batchSize, inpsize)\n",
      "Yb = torch.Tensor(batchSize, outsize)\n",
      "v = torch.Tensor(netGrad:size()):zero()\n",
      "-- evaluate fresh network: should have error 1-1/outsize\n",
      "loss, err = evaluate()\n",
      "print(\"before\\t\" .. loss .. \"\\t\" .. err)\n",
      "-- start training\n",
      "for epoch = 1, epochs do\n",
      "    ix = torch.randperm(X:size(1))\n",
      "    for batch = 0, batchesPerEpoch-1 do\n",
      "        -- construct batch\n",
      "        for sample = 1,batchSize do\n",
      "            Xb[sample]:copy(X[ix[batch*batchSize+sample]])\n",
      "            Yb[sample]:copy(Y[ix[batch*batchSize+sample]])\n",
      "        end\n",
      "        net:zeroGradParameters()\n",
      "        ypred = net:forward(Xb)\n",
      "        crit:forward(ypred, Yb)\n",
      "        gradOut = crit:backward(ypred, Yb)\n",
      "        net:backward(Xb, gradOut)\n",
      "--         netPar:add(-wdecay, netPar)\n",
      "--         netPar:add(-lrate, netGrad)\n",
      "        -- update momentum, all in-place. Follows Krizhevsky 2012\n",
      "        v:mul(0.8)\n",
      "        v:add(-wdecay, netPar)\n",
      "        v:add(-lrate, netGrad)\n",
      "        netPar:add(v)\n",
      "    end\n",
      "    loss, err = evaluate()\n",
      "    print(epoch .. \"\\t\" .. loss .. \"\\t\" .. err)\n",
      "    losses[#losses+1] = loss\n",
      "    errs[#errs+1] = err\n",
      "    if epoch>1 and loss >= losses[#losses-1] then\n",
      "        lrate = lrate / 4\n",
      "        print(\"New learning rate: \" .. lrate)\n",
      "    end\n",
      "--     collectgarbage()\n",
      "end"
     ],
     "language": "python",
     "metadata": {},
     "outputs": [
      {
       "metadata": {},
       "output_type": "pyout",
       "prompt_number": 168,
       "text": [
        "before\t0.00095249410328002\t0.8471875\t\n"
       ]
      },
      {
       "metadata": {},
       "output_type": "pyout",
       "prompt_number": 168,
       "text": [
        "1\t0.00024472720292641\t0.17739583333333\t\n"
       ]
      },
      {
       "metadata": {},
       "output_type": "pyout",
       "prompt_number": 168,
       "text": [
        "2\t0.00013091646119607\t0.051875\t\n"
       ]
      },
      {
       "metadata": {},
       "output_type": "pyout",
       "prompt_number": 168,
       "text": [
        "3\t9.3975844888876e-05\t0.022552083333333\t"
       ]
      },
      {
       "metadata": {},
       "output_type": "pyout",
       "prompt_number": 168,
       "text": [
        "\n"
       ]
      },
      {
       "metadata": {},
       "output_type": "pyout",
       "prompt_number": 168,
       "text": [
        "4\t7.3346382448921e-05\t0.0086979166666667\t\n"
       ]
      },
      {
       "metadata": {},
       "output_type": "pyout",
       "prompt_number": 168,
       "text": [
        "5\t6.0422154056471e-05\t0.0042708333333333\t\n"
       ]
      },
      {
       "metadata": {},
       "output_type": "pyout",
       "prompt_number": 168,
       "text": [
        "6\t5.1961735539015e-05\t0.0030208333333333\t\n"
       ]
      },
      {
       "metadata": {},
       "output_type": "pyout",
       "prompt_number": 168,
       "text": [
        "7\t4.5739253698455e-05\t0.00296875\t\n"
       ]
      },
      {
       "metadata": {},
       "output_type": "pyout",
       "prompt_number": 168,
       "text": [
        "8\t4.0950735389955e-05\t0.00265625\t\n"
       ]
      },
      {
       "metadata": {},
       "output_type": "pyout",
       "prompt_number": 168,
       "text": [
        "9\t3.81844057207e-05\t0.0029166666666667\t\n"
       ]
      },
      {
       "metadata": {},
       "output_type": "pyout",
       "prompt_number": 168,
       "text": [
        "10\t3.5550833477313e-05\t0.003125\t\n"
       ]
      },
      {
       "metadata": {},
       "output_type": "pyout",
       "prompt_number": 168,
       "text": [
        "11\t3.3952692891622e-05\t0.0025\t\n"
       ]
      },
      {
       "metadata": {},
       "output_type": "pyout",
       "prompt_number": 168,
       "text": [
        "12\t3.3123797188983e-05\t0.0025520833333333\t\n"
       ]
      },
      {
       "metadata": {},
       "output_type": "pyout",
       "prompt_number": 168,
       "text": [
        "13\t3.1463302332536e-05\t0.003125\t\n"
       ]
      },
      {
       "metadata": {},
       "output_type": "pyout",
       "prompt_number": 168,
       "text": [
        "14\t3.1228339050695e-05\t0.00296875\t\n"
       ]
      },
      {
       "metadata": {},
       "output_type": "pyout",
       "prompt_number": 168,
       "text": [
        "15\t3.0649465184075e-05\t0.0028125\t\n"
       ]
      },
      {
       "metadata": {},
       "output_type": "pyout",
       "prompt_number": 168,
       "text": [
        "16\t3.0149761467671e-05\t0.0016666666666667\t\n"
       ]
      },
      {
       "metadata": {},
       "output_type": "pyout",
       "prompt_number": 168,
       "text": [
        "17\t3.0161423989445e-05\t0.0022916666666667\t\n",
        "New learning rate: 0.0025\t\n"
       ]
      },
      {
       "metadata": {},
       "output_type": "pyout",
       "prompt_number": 168,
       "text": [
        "18\t3.2329855023692e-05\t0.0030208333333333\t\n",
        "New learning rate: 0.000625\t\n"
       ]
      },
      {
       "metadata": {},
       "output_type": "pyout",
       "prompt_number": 168,
       "text": [
        "19\t3.547385915342e-05\t0.0025\t\n",
        "New learning rate: 0.00015625\t\n"
       ]
      },
      {
       "metadata": {},
       "output_type": "pyout",
       "prompt_number": 168,
       "text": [
        "20\t4.0814069772573e-05\t0.0019270833333333\t\n",
        "New learning rate: 3.90625e-05\t\n"
       ]
      }
     ],
     "prompt_number": 168
    },
    {
     "cell_type": "markdown",
     "metadata": {},
     "source": [
      "What's next? Try to play with the label noise and see the impact on performance. Try adding dropout. Try increasing the dataset size (batchesPerEpoch). When adding dropout, make sure you turn it off during evaluation.\n",
      "\n",
      "Do it again: implement a neural network to learn a regression task.\n",
      "Inspiration can be found at \n",
      "https://github.com/Atcold/Machine-learning-with-Torch\n",
      "It's basically the same as what you just did but with a different loss function (squared error)."
     ]
    },
    {
     "cell_type": "markdown",
     "metadata": {},
     "source": [
      "Similar to this tutorial, Soumith has this great tutorial online that constructs a CIFAR classifier from scratch and trains it: http://nbviewer.ipython.org/github/soumith/nextml/blob/master/05-train-convnet-on-cifar.ipynb"
     ]
    }
   ],
   "metadata": {}
  }
 ]
}